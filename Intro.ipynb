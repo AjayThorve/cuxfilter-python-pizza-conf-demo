{
 "cells": [
  {
   "cell_type": "markdown",
   "metadata": {},
   "source": [
    "# CUXFILTER - GPU accelerated Crossfilter Vizualizations in Python\n",
    "\n",
    "#### Presenter: Ajay Thorve, Software Engineer at Nvidia RAPIDS\n",
    "\n",
    "<img src='https://dash-rapids-covid19.org/assets/rapids-logo.png' width=\"100\" height=\"100\"> <img src='https://static1.purestorage.com/content/dam/purestorage/pure-events/nvidia.png.imgo.png' width=\"100\" height=\"100\">"
   ]
  },
  {
   "cell_type": "markdown",
   "metadata": {},
   "source": [
    "------------------------------------------------------------------"
   ]
  },
  {
   "cell_type": "markdown",
   "metadata": {},
   "source": [
    "## Outline\n",
    "\n",
    "- [Introduction to Nvidia RAPIDS](#Introduction-to-Nvidia-RAPIDS-(https://rapids.ai/))\n",
    "- [Introduction to Cuxfilter and its dependencies](#Introduction-to-Cuxfilter-and-its-dependencies)\n",
    "- [Creating Interactive dashboards for massive datasets](#Creating-Interactive-dashboards-for-massive-datasets)\n",
    "- [Conclusion](#Conclusion)"
   ]
  },
  {
   "cell_type": "markdown",
   "metadata": {},
   "source": [
    "-----------------"
   ]
  },
  {
   "cell_type": "markdown",
   "metadata": {},
   "source": [
    "## Introduction to Nvidia RAPIDS (https://rapids.ai/)"
   ]
  },
  {
   "cell_type": "markdown",
   "metadata": {},
   "source": [
    "Cuxfilter is part of the Nvidia RAPIDS suite of open source software libraries and APIs, that gives you the ability to execute end-to-end data science and analytics pipelines entirely on GPUs. \n",
    "\n",
    "Popular RAPIDS libraries include:\n",
    "\n",
    "- cudf (GPU DataFrame Library)\n",
    "- cuml (RAPIDS Machine Learning Library)\n",
    "- cugraph (RAPIDS Graph Analytics Library)\n",
    "- cusignal (RAPIDS Signal Processing Library)\n",
    "- cuspatial (accelerated GIS and spatiotemporal algorithms)"
   ]
  },
  {
   "cell_type": "markdown",
   "metadata": {},
   "source": [
    "-------------------"
   ]
  },
  {
   "cell_type": "markdown",
   "metadata": {},
   "source": [
    "## Introduction to Cuxfilter and its dependencies\n",
    "\n",
    "Cuxfilter acts as a connector library, which provides the connections between different visualization libraries and a GPU dataframe without much hassle. This also allows the user to use charts from different libraries in a single dashboard, while also providing the interaction.\n"
   ]
  },
  {
   "cell_type": "markdown",
   "metadata": {},
   "source": [
    "<img src=\"../docs/_images/demo2.gif\" width=\"800\" height=\"500\" style=\"margin-left:15%\"/>"
   ]
  },
  {
   "cell_type": "markdown",
   "metadata": {},
   "source": [
    "### Core Dependencies:\n",
    "\n",
    "##### Backend Compute:\n",
    "\n",
    "    - cudf  (https://github.com/rapidsai/cudf)\n",
    "    \n",
    "    cuxfilter implements cuDataTiles, a GPU accelerated version of data tiles based on the work of Falcon (https://github.com/uwdata/falcon). When starting to interact with specific charts in a cuxfilter dashboard, values for the other charts are precomputed to allow for fast slider scrubbing without having to recalculate values.\n",
    "    \n",
    "##### Front-end:\n",
    "\n",
    "    - datashader  (https://datashader.org/)\n",
    "    - panel  (https://panel.holoviz.org/)\n",
    "    - bokeh  (https://bokeh.org/)\n",
    "    - deckgl (https://deck.gl)\n",
    "\n",
    "### PREREQUISITES\n",
    " - GPU: NVIDIA Pascal™ or better with compute capability 6.0+\n",
    " - OS: Ubuntu 16.04 & gcc 5.4 OR Ubuntu 18.04/CentOS 7 & gcc 7.3\n",
    "      *RHEL 7 support is provided through CentOS 7 builds/installs*\n",
    " - Docker: Docker CE v19.03+ and nvidia-container-toolkit\n",
    "      *Legacy Support - Docker CE v17-18 and nvidia-docker2*\n",
    " - CUDA & NVIDIA Drivers: One of the following supported versions:\n",
    "      *10.0 & v410.48+    10.1.2 & v418.87+    10.2 & v440.33+*\n",
    "\n"
   ]
  },
  {
   "cell_type": "markdown",
   "metadata": {},
   "source": [
    "-------------------------------------------------------------------------------------------------------------------------------------------------------------"
   ]
  },
  {
   "cell_type": "markdown",
   "metadata": {},
   "source": [
    "## Creating Interactive dashboards for massive datasets"
   ]
  },
  {
   "cell_type": "markdown",
   "metadata": {},
   "source": [
    "#### Demo 1: [Cuxfilter dashboard for a 146M row Mortgage dataset](./mortgage.ipynb)\n",
    "#### Demo 2: [Cuxfilter dashboard for a 310M row Census 2010 dataset](./census.ipynb)"
   ]
  },
  {
   "cell_type": "markdown",
   "metadata": {},
   "source": [
    "----------------------"
   ]
  },
  {
   "cell_type": "markdown",
   "metadata": {},
   "source": [
    "### Currently Supported Charts\n",
    "| Library  | Chart type |\n",
    "| ------------- | ------------- |\n",
    "| bokeh  | bar, line  |\n",
    "| cudatashader  | scatter, scatter_geo, line, stacked_lines, heatmap |\n",
    "| panel_widgets  | range_slider, float_slider, int_slider, drop_down, multi_select  |\n",
    "| custom    | view_dataframe |\n",
    "| deckgl    | choropleth   |"
   ]
  },
  {
   "cell_type": "markdown",
   "metadata": {},
   "source": [
    "## Conclusion"
   ]
  },
  {
   "cell_type": "markdown",
   "metadata": {},
   "source": [
    "Important Links:\n",
    "\n",
    "- Repository - https://github.com/rapidsai/cuxfilter\n",
    "- Docs - https://docs.rapids.ai/api/cuxfilter/nightly/"
   ]
  },
  {
   "cell_type": "markdown",
   "metadata": {},
   "source": [
    "You can see the examples to implement viz libraries in the bokeh and cudatashader directories. Let us know if you would like to add a chart by opening a feature request issue or submitting a PR.\n",
    "\n",
    "For more details on contributing to the project, check out the [contributing guide](https://github.com/rapidsai/cuxfilter/blob/branch-0.14/CONTRIBUTING.md)."
   ]
  },
  {
   "cell_type": "markdown",
   "metadata": {},
   "source": [
    "------------------------------------"
   ]
  }
 ],
 "metadata": {
  "kernelspec": {
   "display_name": "Python 3",
   "language": "python",
   "name": "python3"
  },
  "language_info": {
   "codemirror_mode": {
    "name": "ipython",
    "version": 3
   },
   "file_extension": ".py",
   "mimetype": "text/x-python",
   "name": "python",
   "nbconvert_exporter": "python",
   "pygments_lexer": "ipython3",
   "version": "3.7.6"
  }
 },
 "nbformat": 4,
 "nbformat_minor": 4
}
